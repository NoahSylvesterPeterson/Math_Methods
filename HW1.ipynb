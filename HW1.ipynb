{
 "cells": [
  {
   "cell_type": "code",
   "execution_count": 6,
   "id": "3b95f3e1",
   "metadata": {},
   "outputs": [],
   "source": [
    "import numpy as np\n",
    "import matplotlib.pyplot as plt"
   ]
  },
  {
   "cell_type": "code",
   "execution_count": null,
   "id": "acf65abc",
   "metadata": {},
   "outputs": [
    {
     "ename": "SyntaxError",
     "evalue": "invalid syntax (3059521784.py, line 33)",
     "output_type": "error",
     "traceback": [
      "\u001b[0;36m  Cell \u001b[0;32mIn[75], line 33\u001b[0;36m\u001b[0m\n\u001b[0;31m    make_image(i,,\"A\", folder = \"Animation_\")\u001b[0m\n\u001b[0m                 ^\u001b[0m\n\u001b[0;31mSyntaxError\u001b[0m\u001b[0;31m:\u001b[0m invalid syntax\n"
     ]
    }
   ],
   "source": [
    "def make_image(i,e,matrix, folder = \"Animation_\"):\n",
    "    file = folder+matrix+f\"/frame_{i}.png\"\n",
    "    A = np.array([[1,e],[e,1]])\n",
    "    if matrix == \"B\":\n",
    "        A = np.array([[1,1],[e*e,1]])\n",
    "    x = np.arange(-1, 1, 0.1)\n",
    "    y = np.arange(-1, 1, 0.1)\n",
    "\n",
    "    X, Y = np.meshgrid(x, y)\n",
    "    def func(i,j):\n",
    "        i = i.astype(int)\n",
    "        j = j.astype(int)\n",
    "        return A[0,0]*X[i,j]+ A[0,1]*Y[i,j]\n",
    "\n",
    "    def func1(i,j):\n",
    "        i = i.astype(int)\n",
    "        j = j.astype(int)\n",
    "        return A[1,0]*X[i,j]+ A[1,1]*Y[i,j]\n",
    "    u = np.fromfunction(func, X.shape, dtype=float)\n",
    "    v = np.fromfunction(func1, X.shape)\n",
    "\n",
    "    fig, ax = plt.subplots(figsize =(14, 8))\n",
    "    ax.quiver(X, Y, u, v)\n",
    "    ax.set_title(f\"transformation by {matrix}| epsilon = {round(e,3)}\")\n",
    "    ax.axis([-1.2, 1.1, -1.2, 1.1])\n",
    "    ax.set_aspect('equal')\n",
    "    plt.savefig(file)\n",
    "    plt.close(fig)\n",
    "    #plt.show()\n",
    "N=60\n",
    "for mat in [\"A\",\"B\"]:\n",
    "    for i in range(N):\n",
    "        make_image(i,1/N*i,\"A\", folder = \"Animation_\")"
   ]
  }
 ],
 "metadata": {
  "kernelspec": {
   "display_name": "Defalt1",
   "language": "python",
   "name": "python3"
  },
  "language_info": {
   "codemirror_mode": {
    "name": "ipython",
    "version": 3
   },
   "file_extension": ".py",
   "mimetype": "text/x-python",
   "name": "python",
   "nbconvert_exporter": "python",
   "pygments_lexer": "ipython3",
   "version": "3.9.23"
  }
 },
 "nbformat": 4,
 "nbformat_minor": 5
}
